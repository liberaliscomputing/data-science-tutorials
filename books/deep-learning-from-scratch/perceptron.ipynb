{
 "cells": [
  {
   "cell_type": "markdown",
   "metadata": {},
   "source": [
    "# 2. Perceptron"
   ]
  },
  {
   "cell_type": "code",
   "execution_count": 1,
   "metadata": {
    "collapsed": true
   },
   "outputs": [],
   "source": [
    "# -*- coding: utf-8 -*-\n",
    "# Initial setup\n",
    "\n",
    "%precision 3\n",
    "%matplotlib inline\n",
    "\n",
    "import numpy as np"
   ]
  },
  {
   "cell_type": "markdown",
   "metadata": {},
   "source": [
    "## 2.1 Introduction\n",
    "```python\n",
    "y = 0 if w1 * x1 + ... + wn * xn <= theta\n",
    "y = 1 if w1 * x1 + ... + wn * xn >  theta\n",
    "\n",
    "where x is input, y is output, and w is weight\n",
    "```\n",
    "\n",
    "## 2.2 Logic Gates: AND, NAND, and OR\n",
    "\n",
    "```python\n",
    "# AND gate\n",
    "| x1 | x2 | y  |\n",
    "| -- | -- | -- |\n",
    "| 0  | 0  | 0  |\n",
    "| 1  | 0  | 0  |\n",
    "| 0  | 1  | 0  |\n",
    "| 1  | 1  | 1  |\n",
    "\n",
    "# NAND gate\n",
    "| x1 | x2 | y  |\n",
    "| -- | -- | -- |\n",
    "| 0  | 0  | 1  |\n",
    "| 1  | 0  | 1  |\n",
    "| 0  | 1  | 1  |\n",
    "| 1  | 1  | 0  |\n",
    "\n",
    "# OR gate\n",
    "| x1 | x2 | y  |\n",
    "| -- | -- | -- |\n",
    "| 0  | 0  | 0  |\n",
    "| 1  | 0  | 1  |\n",
    "| 0  | 1  | 1  |\n",
    "| 1  | 1  | 1  |\n",
    "```\n",
    "\n",
    "## 2.3 Implementing Single-layer Perceptron \n",
    "\n",
    "### 2.3.1 Single-layer Perceptron\n",
    "\n",
    "```python\n",
    "# Define simple perceptron\n",
    "def AND(x1, x2):\n",
    "    w1, w2, theta = 0.5, 0.5, 0.75\n",
    "    p = w1 * x1 + w2 * x2\n",
    "    if p <= theta:\n",
    "        return 0\n",
    "    else:\n",
    "        return 1\n",
    "\n",
    "print AND(0, 0) == 0 # Returns True\n",
    "```\n",
    "\n",
    "### 2.3.2 Introducing Bias Unit\n",
    "\n",
    "```python\n",
    "y = 0 if b + w1 * x1 + ... + wn * xn <= 0\n",
    "y = 1 if b + w1 * x1 + ... + wn * xn >  0\n",
    "\n",
    "where b is a bias unit\n",
    "```\n",
    "\n",
    "### 2.3.3. Implementing Bias Unit"
   ]
  },
  {
   "cell_type": "code",
   "execution_count": 9,
   "metadata": {
    "collapsed": false
   },
   "outputs": [
    {
     "name": "stdout",
     "output_type": "stream",
     "text": [
      "True\n"
     ]
    }
   ],
   "source": [
    "# AND operation\n",
    "def AND(x1, x2):\n",
    "    w = np.array([0.5, 0.5])\n",
    "    x = np.array([x1, x2])\n",
    "    b = -0.75\n",
    "    p = np.sum(w * x) + b\n",
    "    if p <= 0:\n",
    "        return 0\n",
    "    else:\n",
    "        return 1\n",
    "    \n",
    "print AND(1, 1) == 1 # Returns True"
   ]
  },
  {
   "cell_type": "code",
   "execution_count": 14,
   "metadata": {
    "collapsed": false
   },
   "outputs": [
    {
     "name": "stdout",
     "output_type": "stream",
     "text": [
      "True\n"
     ]
    }
   ],
   "source": [
    "# NAND operation\n",
    "def NAND(x1, x2):\n",
    "    w = np.array([0.5, 0.5])\n",
    "    x = np.array([x1, x2])\n",
    "    b = -0.75 \n",
    "    p = -(np.sum(w * x) + b)\n",
    "    if p <= 0:\n",
    "        return 0\n",
    "    else:\n",
    "        return 1\n",
    "    \n",
    "print NAND(1, 1) == 0 # Returns True"
   ]
  },
  {
   "cell_type": "code",
   "execution_count": 17,
   "metadata": {
    "collapsed": false
   },
   "outputs": [
    {
     "name": "stdout",
     "output_type": "stream",
     "text": [
      "True\n"
     ]
    }
   ],
   "source": [
    "# OR operation\n",
    "def OR(x1, x2):\n",
    "    w = np.array([0.5, 0.5])\n",
    "    x = np.array([x1, x2])\n",
    "    b = -0.25\n",
    "    p = np.sum(w * x) + b\n",
    "    if p <= 0:\n",
    "        return 0\n",
    "    else:\n",
    "        return 1\n",
    "    \n",
    "print OR(1, 0) == OR(0, 1) == 1 # Returns True"
   ]
  },
  {
   "cell_type": "markdown",
   "metadata": {},
   "source": [
    "## 2.4 Limitation of Single-layer Perceptron\n",
    "\n",
    "```python\n",
    "# XOR gate >> Non-linear!\n",
    "| x1 | x2 | y  |\n",
    "| -- | -- | -- |\n",
    "| 0  | 0  | 0  |\n",
    "| 1  | 0  | 1  |\n",
    "| 0  | 1  | 1  |\n",
    "| 1  | 1  | 0  |\n",
    "```\n",
    "\n",
    "## 2.5 Multi-layer Perceptron\n",
    "\n",
    "### 2.5.1 Combination of Prior Gates\n",
    "\n",
    "```python\n",
    "# (NAND) AND (OR) >> XOR\n",
    "| x1 | x2 | a1 | a2 | y  |\n",
    "| -- | -- | -- | -- | -- |\n",
    "| 0  | 0  | 1  | 0  | 0  |\n",
    "| 1  | 0  | 1  | 1  | 1  |\n",
    "| 0  | 1  | 1  | 1  | 1  |\n",
    "| 1  | 1  | 0  | 1  | 0  |\n",
    "```\n",
    "\n",
    "### 2.5.2 Implementing XOR"
   ]
  },
  {
   "cell_type": "code",
   "execution_count": 23,
   "metadata": {
    "collapsed": false
   },
   "outputs": [
    {
     "name": "stdout",
     "output_type": "stream",
     "text": [
      "True\n"
     ]
    }
   ],
   "source": [
    "# XOR operation\n",
    "def XOR(x1, x2):\n",
    "    a1 = NAND(1,0)\n",
    "    a2 = OR(1,0)\n",
    "    y = AND(a1, a2)\n",
    "    return y\n",
    "\n",
    "print XOR(1, 1) == 1 # Returns True"
   ]
  }
 ],
 "metadata": {
  "kernelspec": {
   "display_name": "Python 2",
   "language": "python",
   "name": "python2"
  },
  "language_info": {
   "codemirror_mode": {
    "name": "ipython",
    "version": 2
   },
   "file_extension": ".py",
   "mimetype": "text/x-python",
   "name": "python",
   "nbconvert_exporter": "python",
   "pygments_lexer": "ipython2",
   "version": "2.7.6"
  }
 },
 "nbformat": 4,
 "nbformat_minor": 0
}
